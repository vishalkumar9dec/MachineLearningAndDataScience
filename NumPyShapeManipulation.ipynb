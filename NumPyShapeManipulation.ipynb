{
 "cells": [
  {
   "cell_type": "code",
   "execution_count": 1,
   "metadata": {},
   "outputs": [
    {
     "data": {
      "text/plain": [
       "array([1, 2, 3, 4])"
      ]
     },
     "execution_count": 1,
     "metadata": {},
     "output_type": "execute_result"
    }
   ],
   "source": [
    "import numpy as np\n",
    "\n",
    "original_dataset = np.array([1,2,3,4])\n",
    "\n",
    "original_dataset"
   ]
  },
  {
   "cell_type": "code",
   "execution_count": 2,
   "metadata": {},
   "outputs": [
    {
     "data": {
      "text/plain": [
       "array([1, 2, 3, 4])"
      ]
     },
     "execution_count": 2,
     "metadata": {},
     "output_type": "execute_result"
    }
   ],
   "source": [
    "assigned_dataset = original_dataset\n",
    "assigned_dataset"
   ]
  },
  {
   "cell_type": "code",
   "execution_count": 3,
   "metadata": {},
   "outputs": [
    {
     "data": {
      "text/plain": [
       "array([1, 2, 3, 4])"
      ]
     },
     "execution_count": 3,
     "metadata": {},
     "output_type": "execute_result"
    }
   ],
   "source": [
    "view_dataset = original_dataset.view()\n",
    "view_dataset"
   ]
  },
  {
   "cell_type": "code",
   "execution_count": 5,
   "metadata": {},
   "outputs": [
    {
     "data": {
      "text/plain": [
       "array([1, 2, 5, 4])"
      ]
     },
     "execution_count": 5,
     "metadata": {},
     "output_type": "execute_result"
    }
   ],
   "source": [
    "view_dataset[2] = 5\n",
    "view_dataset\n",
    "#original_dataset"
   ]
  },
  {
   "cell_type": "code",
   "execution_count": 6,
   "metadata": {},
   "outputs": [
    {
     "name": "stdout",
     "output_type": "stream",
     "text": [
      "[1 2 5 4]\n",
      "[1 2 7 4]\n",
      "[1 2 5 4]\n"
     ]
    }
   ],
   "source": [
    "copied_dataset = original_dataset.copy()\n",
    "print(copied_dataset)\n",
    "\n",
    "copied_dataset[2] = 7\n",
    "print(copied_dataset)\n",
    "print(original_dataset)"
   ]
  },
  {
   "cell_type": "code",
   "execution_count": 15,
   "metadata": {},
   "outputs": [
    {
     "name": "stdout",
     "output_type": "stream",
     "text": [
      "First Data :  [[1 2 3 4 5]\n",
      " [6 7 8 9 0]]\n",
      "Flattened data :  [1 2 3 4 5 6 7 8 9 0]\n",
      "First Data:  [[1 2 3 4 5]\n",
      " [6 7 8 9 0]]\n",
      "First Data:  [[1 2 3 4 5]\n",
      " [6 7 8 9 0]]\n",
      "[array([1, 2]), array([3, 4]), array([5, 6]), array([7, 8]), array([9, 0])]\n",
      "[1 2 3 4 5 6 7 8 9 0]\n"
     ]
    }
   ],
   "source": [
    "First_data = np.array([[1,2,3,4,5],[6,7,8,9,0]])\n",
    "print(\"First Data : \", First_data)\n",
    "\n",
    "flattened_data = First_data.ravel()\n",
    "print(\"Flattened data : \", flatened_data)\n",
    "\n",
    "First_data.reshape(2,5)\n",
    "\n",
    "print(\"First Data: \", First_data)\n",
    "\n",
    "First_data.resize(2,5)\n",
    "\n",
    "print(\"First Data: \", First_data)\n",
    "\n",
    "print(np.hsplit(flattened_data,5))\n",
    "\n",
    "print(np.hstack(flattened_data))"
   ]
  },
  {
   "cell_type": "code",
   "execution_count": null,
   "metadata": {},
   "outputs": [],
   "source": []
  }
 ],
 "metadata": {
  "kernelspec": {
   "display_name": "Python 3",
   "language": "python",
   "name": "python3"
  },
  "language_info": {
   "codemirror_mode": {
    "name": "ipython",
    "version": 3
   },
   "file_extension": ".py",
   "mimetype": "text/x-python",
   "name": "python",
   "nbconvert_exporter": "python",
   "pygments_lexer": "ipython3",
   "version": "3.7.3"
  }
 },
 "nbformat": 4,
 "nbformat_minor": 2
}
